{
 "cells": [
  {
   "cell_type": "code",
   "execution_count": 1,
   "id": "1d84ba8f",
   "metadata": {},
   "outputs": [
    {
     "name": "stdout",
     "output_type": "stream",
     "text": [
      "Jupyter environment detected. Enabling Open3D WebVisualizer.\n",
      "[Open3D INFO] WebRTC GUI backend enabled.\n",
      "[Open3D INFO] WebRTCWindowSystem: HTTP handshake server disabled.\n"
     ]
    }
   ],
   "source": [
    "import test_pipeline\n",
    "import slice_util\n",
    "import os\n",
    "import numpy as np\n",
    "import glob\n",
    "import pandas as pd\n",
    "\n"
   ]
  },
  {
   "cell_type": "code",
   "execution_count": 2,
   "metadata": {},
   "outputs": [],
   "source": [
    "config_dir = '/home/jhahn/puzzlefusion-plusplus/config'\n",
    "files_root =  '/home/jhahn/puzzlefusion-plusplus/web/files'\n",
    "data_ids = ['0408']\n",
    "tickness = 0.001\n",
    "spacing = 0.007\n",
    "ckpt_path= '/home/jhahn/puzzlefusion-plusplus/brain_lightsheet/denoiser/everyday_2000epoch/training/last.ckpt'"
   ]
  },
  {
   "cell_type": "code",
   "execution_count": 3,
   "id": "fe3ef656",
   "metadata": {},
   "outputs": [],
   "source": [
    "import importlib\n",
    "import puzzlefusion_plusplus.denoiser.dataset.dataset\n",
    "importlib.reload(puzzlefusion_plusplus.denoiser.dataset.dataset)\n",
    "from puzzlefusion_plusplus.denoiser.dataset.dataset import build_test_dataloader\n",
    "import test_pipeline\n",
    "importlib.reload(test_pipeline)\n",
    "\n",
    "cfg = test_pipeline.load_cfg(config_dir)\n",
    "tiff_dir_root, obj_dir_root, pc_dir_root, inference_dir_root, render_output_dir = test_pipeline.init_dir(files_root,data_ids)\n",
    "#obj_dir_list_relative = test_pipeline.tiff_2_obj(cfg, tiff_dir_root, tickness,spacing, obj_dir_root, pc_dir_root)\n",
    "obj_dir_list_relative = ['0.001_0.007']\n",
    "#obj_dir_list_relative\n",
    "#obj_files = []\n",
    "#for _o in os.listdir(obj_dir_root+\"/\"+obj_dir_list_relative[0]+\"/fractured_0\"):\n",
    "#    obj_files.append(obj_dir_root+\"/\"+obj_dir_list_relative[0]+\"/fractured_0/\"+_o)\n",
    "#slice_util.combine_obj_files(obj_files, obj_dir_root+\"/\"+obj_dir_list_relative[0]+\"/combined.obj\")\n"
   ]
  },
  {
   "cell_type": "code",
   "execution_count": 4,
   "id": "7a8a3e48",
   "metadata": {},
   "outputs": [
    {
     "name": "stderr",
     "output_type": "stream",
     "text": [
      "  0%|          | 0/18 [00:00<?, ?it/s]/data/jhahn/slice_env/lib/python3.10/site-packages/pytorch3d/io/obj_io.py:546: UserWarning: No mtl file provided\n",
      "  warnings.warn(\"No mtl file provided\")\n",
      "100%|██████████| 18/18 [00:04<00:00,  4.18it/s]\n"
     ]
    }
   ],
   "source": [
    "#test_pipeline.inference(cfg, pc_dir_root, obj_dir_list_relative, ckpt_path, inference_dir_root)\n",
    "import importlib\n",
    "import render_inference_result\n",
    "importlib.reload(slice_util)\n",
    "importlib.reload(render_inference_result)\n",
    "import puzzlefusion_plusplus.denoiser.dataset.dataset\n",
    "importlib.reload(puzzlefusion_plusplus.denoiser.dataset.dataset)\n",
    "from puzzlefusion_plusplus.denoiser.dataset.dataset import build_test_dataloader\n",
    "import test_pipeline\n",
    "importlib.reload(test_pipeline)\n",
    "\n",
    "vertices_gt = render_inference_result.get_vertices(inference_dir_root, obj_dir_root, device=test_pipeline.device)\n"
   ]
  },
  {
   "cell_type": "code",
   "execution_count": 7,
   "id": "f15c8cd8",
   "metadata": {},
   "outputs": [
    {
     "name": "stderr",
     "output_type": "stream",
     "text": [
      "100%|██████████| 18/18 [00:01<00:00, 12.07it/s]\n"
     ]
    },
    {
     "name": "stdout",
     "output_type": "stream",
     "text": [
      "/home/jhahn/puzzlefusion-plusplus/web/files/0408/render/0/trans/0.obj\n",
      "/home/jhahn/puzzlefusion-plusplus/web/files/0408/render/0/trans/1.obj\n",
      "/home/jhahn/puzzlefusion-plusplus/web/files/0408/render/0/trans/2.obj\n",
      "/home/jhahn/puzzlefusion-plusplus/web/files/0408/render/0/trans/3.obj\n",
      "/home/jhahn/puzzlefusion-plusplus/web/files/0408/render/0/trans/4.obj\n",
      "/home/jhahn/puzzlefusion-plusplus/web/files/0408/render/0/trans/5.obj\n",
      "/home/jhahn/puzzlefusion-plusplus/web/files/0408/render/0/trans/6.obj\n",
      "/home/jhahn/puzzlefusion-plusplus/web/files/0408/render/0/trans/7.obj\n",
      "/home/jhahn/puzzlefusion-plusplus/web/files/0408/render/0/trans/8.obj\n",
      "/home/jhahn/puzzlefusion-plusplus/web/files/0408/render/0/trans/9.obj\n",
      "/home/jhahn/puzzlefusion-plusplus/web/files/0408/render/0/trans/10.obj\n",
      "/home/jhahn/puzzlefusion-plusplus/web/files/0408/render/0/trans/11.obj\n",
      "/home/jhahn/puzzlefusion-plusplus/web/files/0408/render/0/trans/12.obj\n",
      "/home/jhahn/puzzlefusion-plusplus/web/files/0408/render/0/trans/13.obj\n",
      "/home/jhahn/puzzlefusion-plusplus/web/files/0408/render/0/trans/14.obj\n",
      "/home/jhahn/puzzlefusion-plusplus/web/files/0408/render/0/trans/15.obj\n",
      "/home/jhahn/puzzlefusion-plusplus/web/files/0408/render/0/trans/16.obj\n",
      "/home/jhahn/puzzlefusion-plusplus/web/files/0408/render/0/trans/17.obj\n"
     ]
    },
    {
     "name": "stderr",
     "output_type": "stream",
     "text": [
      "100%|██████████| 18/18 [00:00<00:00, 36.85it/s]\n"
     ]
    },
    {
     "data": {
      "text/plain": [
       "tensor([0.3725, 0.3275, 0.3040, 0.2622, 0.2249, 0.1924, 0.1631, 0.1410, 0.1116,\n",
       "        0.0861, 0.0712, 0.0544, 0.0421, 0.0277, 0.0198, 0.0124, 0.0061, 0.0033],\n",
       "       device='cuda:0')"
      ]
     },
     "execution_count": 7,
     "metadata": {},
     "output_type": "execute_result"
    }
   ],
   "source": [
    "#test_pipeline.inference(cfg, pc_dir_root, obj_dir_list_relative, ckpt_path, inference_dir_root)\n",
    "import importlib\n",
    "import render_inference_result\n",
    "importlib.reload(slice_util)\n",
    "importlib.reload(render_inference_result)\n",
    "import puzzlefusion_plusplus.denoiser.dataset.dataset\n",
    "importlib.reload(puzzlefusion_plusplus.denoiser.dataset.dataset)\n",
    "from puzzlefusion_plusplus.denoiser.dataset.dataset import build_test_dataloader\n",
    "import test_pipeline\n",
    "importlib.reload(test_pipeline)\n",
    "\n",
    "test_pipeline.render(inference_dir_root, vertices_gt, render_output_dir)\n",
    "shape_cd = test_pipeline.eval( vertices_gt,inference_dir_root,render_output_dir)\n",
    "shape_cd"
   ]
  },
  {
   "cell_type": "code",
   "execution_count": 15,
   "id": "d650a98c",
   "metadata": {},
   "outputs": [
    {
     "data": {
      "text/plain": [
       "torch.Size([])"
      ]
     },
     "execution_count": 15,
     "metadata": {},
     "output_type": "execute_result"
    }
   ],
   "source": [
    "shape_cd.shape"
   ]
  },
  {
   "cell_type": "code",
   "execution_count": null,
   "id": "ae6e72ba",
   "metadata": {},
   "outputs": [],
   "source": []
  }
 ],
 "metadata": {
  "kernelspec": {
   "display_name": "slice_env",
   "language": "python",
   "name": "python3"
  },
  "language_info": {
   "codemirror_mode": {
    "name": "ipython",
    "version": 3
   },
   "file_extension": ".py",
   "mimetype": "text/x-python",
   "name": "python",
   "nbconvert_exporter": "python",
   "pygments_lexer": "ipython3",
   "version": "3.10.12"
  }
 },
 "nbformat": 4,
 "nbformat_minor": 5
}
