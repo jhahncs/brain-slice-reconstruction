{
 "cells": [
  {
   "cell_type": "code",
   "execution_count": null,
   "id": "c3a80cf2-c9ec-4b33-bfd3-8af6ae030db7",
   "metadata": {},
   "outputs": [
    {
     "name": "stderr",
     "output_type": "stream",
     "text": [
      "/data/jhahn/slice_env/lib/python3.10/site-packages/pytorch3d/io/obj_io.py:546: UserWarning: No mtl file provided\n",
      "  warnings.warn(\"No mtl file provided\")\n"
     ]
    }
   ],
   "source": [
    "import slice_util\n",
    "import os\n",
    "import numpy as np\n",
    "import glob\n",
    "import pandas as pd\n",
    "import shutil\n",
    "\n",
    "from pytorch3d.io import load_objs_as_meshes, load_obj\n",
    "import imageio.v2 as iio\n",
    "import pytorch3d\n",
    "from pytorch3d.structures import Meshes\n",
    "import pytorch3d.utils\n",
    "from pytorch3d.renderer import (\n",
    "    FoVPerspectiveCameras,\n",
    "    PointLights,\n",
    "    Materials,\n",
    "    RasterizationSettings,\n",
    "    MeshRenderer,\n",
    "    MeshRasterizer,\n",
    "    HardPhongShader,\n",
    "    TexturesUV,\n",
    "    TexturesVertex,\n",
    "    Textures\n",
    ")\n",
    "import torch\n",
    "from pytorch3d.io import IO\n",
    "if torch.cuda.is_available():\n",
    "    device = torch.device(\"cuda:0\")\n",
    "    torch.cuda.set_device(device)\n",
    "else:\n",
    "    device = torch.device(\"cpu\")\n",
    "import importlib\n",
    "import render_inference_result\n",
    "importlib.reload(slice_util)\n",
    "importlib.reload(render_inference_result)\n",
    "\n",
    "\n"
   ]
  },
  {
   "cell_type": "code",
   "execution_count": null,
   "id": "23e4d913",
   "metadata": {},
   "outputs": [
    {
     "data": {
      "text/plain": [
       "tensor([[  0.0000,   0.0000,  16.0000],\n",
       "        [  0.0000,   0.0000,  14.5000],\n",
       "        [  0.0000,   0.0000,  13.0000],\n",
       "        ...,\n",
       "        [ 31.4663,  31.4663, -12.5000],\n",
       "        [ 31.4663,  31.4663, -14.0000],\n",
       "        [ 31.4663,  31.4663, -15.5000]], device='cuda:0')"
      ]
     },
     "execution_count": 7,
     "metadata": {},
     "output_type": "execute_result"
    }
   ],
   "source": [
    "\n",
    "pcd_file_name = '/home/jhahn/puzzlefusion-plusplus/2d_2_pcd/reconstructed_point_cloud.obj'\n",
    "vertices = pytorch3d.io.load_obj(pcd_file_name, device=device)[0]\n",
    "\n",
    "\n",
    "renderer, renderer_front = render_inference_result.get_renderer(device)\n",
    "\n",
    "#vertices = vertices.cpu()\n",
    "\n",
    "N, dim = vertices.shape\n",
    "#print(type(vertices))\n",
    "\n",
    "translated_points = vertices\n",
    "#tr = Translate(torch.FloatTensor([-gt[_i,:3]]))\n",
    "#rr = Rotate(quaternion_to_matrix(torch.FloatTensor([-gt[_i,3:]])))\n",
    "from matplotlib import colormaps\n",
    "cmap_names = list(colormaps)\n",
    "#print(cmap_names)\n",
    "\n",
    "import matplotlib.pyplot as plt\n",
    "from matplotlib.colors import ListedColormap\n",
    "import imageio\n",
    "\n",
    "viridis = plt.get_cmap('tab20b_r')\n",
    "tab10_r = ListedColormap(viridis(np.arange(20)))\n",
    "tab10_r.colors[0][:3]\n",
    "tab10_r\n",
    "\n",
    "    \n",
    "#print(torch.max(translated_points,axis=0)[0])\n",
    "#print(torch.min(translated_points,axis=0)[0])\n",
    "#translated_points = vertices.to(device)\n",
    "colors = torch.ones_like(translated_points) * torch.tensor(tab10_r.colors[_i%20][:3]).to(device)  # blue points\n",
    "point_cloud = pytorch3d.structures.Pointclouds(points=[translated_points], features=[colors.to(torch.float)])\n",
    "image_data_list.append(translated_points.cpu().numpy())\n",
    "images.append((renderer(point_cloud).cpu().numpy()*255).astype(np.uint8))\n",
    "images_front.append((renderer_front(point_cloud).cpu().numpy()*255).astype(np.uint8))\n",
    "\n",
    "images_ = sum_arrays(images)\n",
    "images_front = sum_arrays(images_front)\n",
    "\n",
    "\n",
    "\n",
    "imageio.mimsave(f'reconstructed_volume.png', [images_[0]], format='PNG')\n"
   ]
  }
 ],
 "metadata": {
  "kernelspec": {
   "display_name": "slice_env",
   "language": "python",
   "name": "python3"
  },
  "language_info": {
   "codemirror_mode": {
    "name": "ipython",
    "version": 3
   },
   "file_extension": ".py",
   "mimetype": "text/x-python",
   "name": "python",
   "nbconvert_exporter": "python",
   "pygments_lexer": "ipython3",
   "version": "3.10.12"
  }
 },
 "nbformat": 4,
 "nbformat_minor": 5
}
