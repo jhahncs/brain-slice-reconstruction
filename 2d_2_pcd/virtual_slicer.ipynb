{
 "cells": [
  {
   "cell_type": "code",
   "execution_count": 2,
   "id": "54b67d7d",
   "metadata": {},
   "outputs": [],
   "source": [
    "import numpy as np\n",
    "import pyvista as pv\n",
    "from scipy.ndimage import map_coordinates\n",
    "import matplotlib.pyplot as plt\n",
    "import numpy as np\n",
    "import os\n",
    "from pathlib import Path\n",
    "import matplotlib.pyplot as plt\n",
    "from tifffile import imread\n",
    "# python batch_slicer.py\n",
    "#import png_to_obj\n",
    "import multiprocessing\n",
    "from tqdm import tqdm # 1. tqdm 라이브러리를 임포트합니다.\n",
    "\n",
    "# --- Import the functions from our other script ---\n",
    "# Make sure virtual_slicer.py is in the same directory.\n",
    "try:\n",
    "    from virtual_slicer import create_cube, slice_matrix, visualize_volumes, show_slice_montage\n",
    "except ImportError:\n",
    "    print(\"Error: Could not import from 'virtual_slicer.py'.\")\n",
    "    print(\"Please make sure 'virtual_slicer.py' is in the same directory as this script.\")\n",
    "    exit()\n",
    "\n",
    "\n"
   ]
  },
  {
   "cell_type": "code",
   "execution_count": 3,
   "id": "a98230d2",
   "metadata": {},
   "outputs": [],
   "source": [
    "V = imread('/data/jhahn/data/brain_lightsheet/stack.tif')"
   ]
  },
  {
   "cell_type": "code",
   "execution_count": 27,
   "id": "6a23731b",
   "metadata": {},
   "outputs": [],
   "source": [
    "normal_vector = [1.0, 0.0, 0.0]\n",
    "normal = np.array(normal_vector) / np.linalg.norm(normal_vector)"
   ]
  },
  {
   "cell_type": "code",
   "execution_count": 28,
   "id": "422a720b",
   "metadata": {},
   "outputs": [],
   "source": [
    "original_shape = np.array(V.shape)\n",
    "array_center = original_shape / 2\n"
   ]
  },
  {
   "cell_type": "code",
   "execution_count": 29,
   "id": "7bb7fe3c",
   "metadata": {},
   "outputs": [
    {
     "data": {
      "text/plain": [
       "(379, 1150, 1559)"
      ]
     },
     "execution_count": 29,
     "metadata": {},
     "output_type": "execute_result"
    }
   ],
   "source": [
    "V.shape"
   ]
  },
  {
   "cell_type": "code",
   "execution_count": 30,
   "id": "d3695312",
   "metadata": {},
   "outputs": [
    {
     "data": {
      "text/plain": [
       "189"
      ]
     },
     "execution_count": 30,
     "metadata": {},
     "output_type": "execute_result"
    }
   ],
   "source": [
    "int(original_shape[0]/2)"
   ]
  },
  {
   "cell_type": "code",
   "execution_count": 31,
   "id": "37753ef4",
   "metadata": {},
   "outputs": [
    {
     "name": "stdout",
     "output_type": "stream",
     "text": [
      "0 255\n"
     ]
    }
   ],
   "source": [
    "print(np.min(np.min(V[int(original_shape[0]/2)],axis=0),axis=0),np.max(np.max(V[int(original_shape[0]/2)],axis=0),axis=0))"
   ]
  },
  {
   "cell_type": "code",
   "execution_count": 32,
   "id": "7c74d2b6",
   "metadata": {},
   "outputs": [
    {
     "data": {
      "text/plain": [
       "(1974, 1974)"
      ]
     },
     "execution_count": 32,
     "metadata": {},
     "output_type": "execute_result"
    }
   ],
   "source": [
    "# Create an orthonormal basis for the slicing plane\n",
    "u = np.array([-normal[1], normal[0], 0])\n",
    "\n",
    "\n",
    "if np.linalg.norm(u) < 1e-6:\n",
    "    u = np.array([0, -normal[2], normal[1]])\n",
    "\n",
    "u /= np.linalg.norm(u)\n",
    "v = np.cross(normal, u)\n",
    "max_dim = int(np.ceil(np.linalg.norm(original_shape)))\n",
    "slice_size = (max_dim, max_dim)\n",
    "slice_size"
   ]
  },
  {
   "cell_type": "code",
   "execution_count": 33,
   "id": "0545cbf4",
   "metadata": {},
   "outputs": [
    {
     "name": "stdout",
     "output_type": "stream",
     "text": [
      "-987.0 986.0\n"
     ]
    }
   ],
   "source": [
    "# Create grid points for the new slice\n",
    "x_slice, y_slice = np.meshgrid(np.arange(-max_dim/2, max_dim/2),\n",
    "                                np.arange(-max_dim/2, max_dim/2))\n",
    "x_slice\n",
    "\n",
    "print(np.min(np.min(x_slice,axis=0),axis=0),np.max(np.max(x_slice,axis=0),axis=0))"
   ]
  },
  {
   "cell_type": "code",
   "execution_count": 34,
   "id": "e8a245c4",
   "metadata": {},
   "outputs": [
    {
     "data": {
      "text/plain": [
       "1974"
      ]
     },
     "execution_count": 34,
     "metadata": {},
     "output_type": "execute_result"
    }
   ],
   "source": [
    "sliced_matrix_list = []\n",
    "\n",
    "# Iterate through slices along the normal vector\n",
    "max_travel = int(np.ceil(np.linalg.norm(array_center))) * 2\n",
    "max_travel"
   ]
  },
  {
   "cell_type": "code",
   "execution_count": 35,
   "id": "6ba0869c",
   "metadata": {},
   "outputs": [
    {
     "name": "stdout",
     "output_type": "stream",
     "text": [
      "[-348.47828873   36.31460449  535.37968655]\n",
      "[1852.11726764 2236.91016086 2146.32744072]\n"
     ]
    }
   ],
   "source": [
    "points_3d.shape\n",
    "\n",
    "print(np.min(np.min(points_3d,axis=1),axis=1))\n",
    "print(np.max(np.max(points_3d,axis=1),axis=1))\n"
   ]
  },
  {
   "cell_type": "code",
   "execution_count": 40,
   "id": "07bdd27a",
   "metadata": {},
   "outputs": [
    {
     "name": "stdout",
     "output_type": "stream",
     "text": [
      "[189.5 575.  779.5]\n",
      "[1. 0. 0.]\n"
     ]
    }
   ],
   "source": [
    "print(array_center)\n",
    "print(normal)"
   ]
  },
  {
   "cell_type": "code",
   "execution_count": 41,
   "id": "2ec2af54",
   "metadata": {},
   "outputs": [
    {
     "name": "stdout",
     "output_type": "stream",
     "text": [
      "[189.5 575.  779.5]\n",
      "[-797.5  575.   779.5]\n"
     ]
    }
   ],
   "source": [
    "s = 0\n",
    "print(array_center)\n",
    "print(array_center + normal * (s - max_travel / 2))"
   ]
  },
  {
   "cell_type": "code",
   "execution_count": 36,
   "id": "bc1ab5af",
   "metadata": {},
   "outputs": [
    {
     "name": "stdout",
     "output_type": "stream",
     "text": [
      "0\n",
      "[ 202.5 -412.  -207.5]\n",
      "[ 202.5 1561.  1765.5]\n",
      "0 128\n",
      "1\n",
      "[ 222.5 -412.  -207.5]\n",
      "[ 222.5 1561.  1765.5]\n",
      "0 128\n",
      "2\n",
      "[ 242.5 -412.  -207.5]\n",
      "[ 242.5 1561.  1765.5]\n",
      "0 128\n",
      "3\n",
      "[ 262.5 -412.  -207.5]\n",
      "[ 262.5 1561.  1765.5]\n",
      "0 128\n",
      "4\n",
      "[ 282.5 -412.  -207.5]\n",
      "[ 282.5 1561.  1765.5]\n",
      "0 128\n",
      "5\n",
      "[ 302.5 -412.  -207.5]\n",
      "[ 302.5 1561.  1765.5]\n",
      "0 255\n",
      "6\n",
      "[ 322.5 -412.  -207.5]\n",
      "[ 322.5 1561.  1765.5]\n",
      "0 255\n",
      "7\n",
      "[ 342.5 -412.  -207.5]\n",
      "[ 342.5 1561.  1765.5]\n",
      "0 255\n",
      "8\n",
      "[ 362.5 -412.  -207.5]\n",
      "[ 362.5 1561.  1765.5]\n",
      "0 255\n",
      "9\n",
      "[ 382.5 -412.  -207.5]\n",
      "[ 382.5 1561.  1765.5]\n",
      "0 255\n",
      "10\n",
      "[ 402.5 -412.  -207.5]\n",
      "[ 402.5 1561.  1765.5]\n",
      "0 255\n",
      "11\n",
      "[ 422.5 -412.  -207.5]\n",
      "[ 422.5 1561.  1765.5]\n",
      "0 255\n",
      "12\n",
      "[ 442.5 -412.  -207.5]\n",
      "[ 442.5 1561.  1765.5]\n",
      "0 255\n",
      "13\n",
      "[ 462.5 -412.  -207.5]\n",
      "[ 462.5 1561.  1765.5]\n",
      "0 255\n",
      "14\n",
      "[ 482.5 -412.  -207.5]\n",
      "[ 482.5 1561.  1765.5]\n",
      "0 255\n",
      "15\n",
      "[ 502.5 -412.  -207.5]\n",
      "[ 502.5 1561.  1765.5]\n",
      "0 255\n",
      "16\n",
      "[ 522.5 -412.  -207.5]\n",
      "[ 522.5 1561.  1765.5]\n",
      "0 255\n",
      "17\n",
      "[ 542.5 -412.  -207.5]\n",
      "[ 542.5 1561.  1765.5]\n",
      "0 255\n",
      "18\n",
      "[ 562.5 -412.  -207.5]\n",
      "[ 562.5 1561.  1765.5]\n",
      "0 255\n",
      "19\n",
      "[ 582.5 -412.  -207.5]\n",
      "[ 582.5 1561.  1765.5]\n",
      "0 255\n",
      "20\n",
      "[ 602.5 -412.  -207.5]\n",
      "[ 602.5 1561.  1765.5]\n",
      "0 255\n",
      "21\n",
      "[ 622.5 -412.  -207.5]\n",
      "[ 622.5 1561.  1765.5]\n",
      "0 255\n",
      "22\n",
      "[ 642.5 -412.  -207.5]\n",
      "[ 642.5 1561.  1765.5]\n",
      "0 255\n",
      "23\n",
      "[ 662.5 -412.  -207.5]\n",
      "[ 662.5 1561.  1765.5]\n",
      "0 255\n",
      "24\n",
      "[ 682.5 -412.  -207.5]\n",
      "[ 682.5 1561.  1765.5]\n",
      "0 255\n",
      "25\n",
      "[ 702.5 -412.  -207.5]\n",
      "[ 702.5 1561.  1765.5]\n",
      "0 255\n",
      "26\n",
      "[ 722.5 -412.  -207.5]\n",
      "[ 722.5 1561.  1765.5]\n",
      "0 255\n",
      "27\n",
      "[ 742.5 -412.  -207.5]\n",
      "[ 742.5 1561.  1765.5]\n",
      "0 255\n",
      "28\n",
      "[ 762.5 -412.  -207.5]\n",
      "[ 762.5 1561.  1765.5]\n",
      "0 255\n",
      "29\n",
      "[ 782.5 -412.  -207.5]\n",
      "[ 782.5 1561.  1765.5]\n",
      "0 255\n",
      "30\n",
      "[ 802.5 -412.  -207.5]\n",
      "[ 802.5 1561.  1765.5]\n",
      "0 255\n",
      "31\n",
      "[ 822.5 -412.  -207.5]\n",
      "[ 822.5 1561.  1765.5]\n",
      "0 255\n",
      "32\n",
      "[ 842.5 -412.  -207.5]\n",
      "[ 842.5 1561.  1765.5]\n",
      "0 255\n",
      "33\n",
      "[ 862.5 -412.  -207.5]\n",
      "[ 862.5 1561.  1765.5]\n",
      "0 255\n",
      "34\n",
      "[ 882.5 -412.  -207.5]\n",
      "[ 882.5 1561.  1765.5]\n",
      "0 255\n",
      "35\n",
      "[ 902.5 -412.  -207.5]\n",
      "[ 902.5 1561.  1765.5]\n",
      "0 255\n",
      "36\n",
      "[ 922.5 -412.  -207.5]\n",
      "[ 922.5 1561.  1765.5]\n",
      "0 255\n",
      "37\n",
      "[ 942.5 -412.  -207.5]\n",
      "[ 942.5 1561.  1765.5]\n",
      "0 255\n",
      "38\n",
      "[ 962.5 -412.  -207.5]\n",
      "[ 962.5 1561.  1765.5]\n",
      "0 255\n",
      "39\n",
      "[ 982.5 -412.  -207.5]\n",
      "[ 982.5 1561.  1765.5]\n",
      "0 255\n",
      "40\n",
      "[1002.5 -412.  -207.5]\n",
      "[1002.5 1561.  1765.5]\n",
      "0 255\n",
      "41\n",
      "[1022.5 -412.  -207.5]\n",
      "[1022.5 1561.  1765.5]\n",
      "0 255\n",
      "42\n",
      "[1042.5 -412.  -207.5]\n",
      "[1042.5 1561.  1765.5]\n",
      "0 255\n",
      "43\n",
      "[1062.5 -412.  -207.5]\n",
      "[1062.5 1561.  1765.5]\n",
      "0 255\n",
      "44\n",
      "[1082.5 -412.  -207.5]\n",
      "[1082.5 1561.  1765.5]\n",
      "0 255\n",
      "45\n",
      "[1102.5 -412.  -207.5]\n",
      "[1102.5 1561.  1765.5]\n",
      "0 255\n",
      "46\n",
      "[1122.5 -412.  -207.5]\n",
      "[1122.5 1561.  1765.5]\n",
      "0 255\n",
      "47\n",
      "[1142.5 -412.  -207.5]\n",
      "[1142.5 1561.  1765.5]\n",
      "0 255\n",
      "48\n",
      "[1162.5 -412.  -207.5]\n",
      "[1162.5 1561.  1765.5]\n",
      "0 255\n"
     ]
    }
   ],
   "source": [
    "sliced_matrix_list = []\n",
    "s = 1\n",
    "slice_gap = 20\n",
    "slice_id = 0\n",
    "for s in range(0,max_travel,slice_gap):\n",
    "    pt = array_center + normal * (s - max_travel / 2)\n",
    "    \n",
    "    \n",
    "    points_3d = pt[:, np.newaxis, np.newaxis] + \\\n",
    "                u[:, np.newaxis, np.newaxis] * x_slice + \\\n",
    "                v[:, np.newaxis, np.newaxis] * y_slice\n",
    "    #print(np.min(np.min(points_3d,axis=0),axis=0),np.max(np.max(points_3d,axis=0),axis=0))\n",
    "\n",
    "    # Sample the volume at these 3D coordinates\n",
    "    # Note: map_coordinates expects coordinates in (z, y, x) order for a (depth, height, width) array\n",
    "    coords_for_map = [points_3d[2], points_3d[1], points_3d[0]]\n",
    "    oblique_slice = map_coordinates(V, coords_for_map, order=0, mode='constant', cval=0.0)\n",
    "    if not np.any(oblique_slice):\n",
    "        continue\n",
    "    sliced_matrix_list.append(oblique_slice)\n",
    "    print(f'{slice_id}')\n",
    "    print(np.min(np.min(points_3d,axis=1),axis=1))\n",
    "    print(np.max(np.max(points_3d,axis=1),axis=1))\n",
    "    slice_id += 1\n",
    "    #print(oblique_slice)\n",
    "    print(np.min(np.min(oblique_slice,axis=0),axis=0),np.max(np.max(oblique_slice,axis=0),axis=0))\n",
    "\n",
    "    #unique_values, counts = np.unique(oblique_slice.flatten(), return_counts=True)\n",
    "    #for i in range(len(unique_values)):\n",
    "    #    print(f\"{unique_values[i]} : {counts[i]} \")\n",
    "\n",
    "sliced_matrix = np.stack(sliced_matrix_list, axis=-1)\n",
    "\n",
    "\n",
    "def remove_zero_slices(matrix):\n",
    "    \"\"\"Removes slices from a 3D matrix that contain only zeros.\"\"\"\n",
    "    non_zero_slices = [i for i in range(matrix.shape[2]) if np.any(matrix[:, :, i])]\n",
    "    return matrix[:, :, non_zero_slices]\n",
    "\n",
    "\n",
    "final_arr =  remove_zero_slices(sliced_matrix)"
   ]
  },
  {
   "cell_type": "code",
   "execution_count": 64,
   "id": "0937ec8f",
   "metadata": {},
   "outputs": [
    {
     "name": "stdout",
     "output_type": "stream",
     "text": [
      "[  0 128 255] [182219361   8291567    426196]\n",
      "[0.  0.5 1. ] [182219361   8291567    426196]\n"
     ]
    }
   ],
   "source": [
    "unique_values, counts = np.unique(final_arr.flatten(), return_counts=True)\n",
    "print(unique_values, counts)\n",
    "\n",
    "_final_arr = final_arr.copy().astype(float)\n",
    "_final_arr[_final_arr==128] = 0.5\n",
    "_final_arr[_final_arr==255] = 1.0\n",
    "unique_values, counts = np.unique(_final_arr.flatten(), return_counts=True)\n",
    "print(unique_values, counts)\n",
    "#for i in range(len(unique_values)):\n",
    "#    print(f\"{unique_values[i]} : {counts[i]} \")\n"
   ]
  },
  {
   "cell_type": "code",
   "execution_count": 63,
   "id": "b35cbb32",
   "metadata": {},
   "outputs": [
    {
     "data": {
      "text/plain": [
       "array([[[0, 0, 0, ..., 0, 0, 0],\n",
       "        [0, 0, 0, ..., 0, 0, 0],\n",
       "        [0, 0, 0, ..., 0, 0, 0],\n",
       "        ...,\n",
       "        [0, 0, 0, ..., 0, 0, 0],\n",
       "        [0, 0, 0, ..., 0, 0, 0],\n",
       "        [0, 0, 0, ..., 0, 0, 0]],\n",
       "\n",
       "       [[0, 0, 0, ..., 0, 0, 0],\n",
       "        [0, 0, 0, ..., 0, 0, 0],\n",
       "        [0, 0, 0, ..., 0, 0, 0],\n",
       "        ...,\n",
       "        [0, 0, 0, ..., 0, 0, 0],\n",
       "        [0, 0, 0, ..., 0, 0, 0],\n",
       "        [0, 0, 0, ..., 0, 0, 0]],\n",
       "\n",
       "       [[0, 0, 0, ..., 0, 0, 0],\n",
       "        [0, 0, 0, ..., 0, 0, 0],\n",
       "        [0, 0, 0, ..., 0, 0, 0],\n",
       "        ...,\n",
       "        [0, 0, 0, ..., 0, 0, 0],\n",
       "        [0, 0, 0, ..., 0, 0, 0],\n",
       "        [0, 0, 0, ..., 0, 0, 0]],\n",
       "\n",
       "       ...,\n",
       "\n",
       "       [[0, 0, 0, ..., 0, 0, 0],\n",
       "        [0, 0, 0, ..., 0, 0, 0],\n",
       "        [0, 0, 0, ..., 0, 0, 0],\n",
       "        ...,\n",
       "        [0, 0, 0, ..., 0, 0, 0],\n",
       "        [0, 0, 0, ..., 0, 0, 0],\n",
       "        [0, 0, 0, ..., 0, 0, 0]],\n",
       "\n",
       "       [[0, 0, 0, ..., 0, 0, 0],\n",
       "        [0, 0, 0, ..., 0, 0, 0],\n",
       "        [0, 0, 0, ..., 0, 0, 0],\n",
       "        ...,\n",
       "        [0, 0, 0, ..., 0, 0, 0],\n",
       "        [0, 0, 0, ..., 0, 0, 0],\n",
       "        [0, 0, 0, ..., 0, 0, 0]],\n",
       "\n",
       "       [[0, 0, 0, ..., 0, 0, 0],\n",
       "        [0, 0, 0, ..., 0, 0, 0],\n",
       "        [0, 0, 0, ..., 0, 0, 0],\n",
       "        ...,\n",
       "        [0, 0, 0, ..., 0, 0, 0],\n",
       "        [0, 0, 0, ..., 0, 0, 0],\n",
       "        [0, 0, 0, ..., 0, 0, 0]]], dtype=uint8)"
      ]
     },
     "execution_count": 63,
     "metadata": {},
     "output_type": "execute_result"
    }
   ],
   "source": [
    "_final_arr"
   ]
  },
  {
   "cell_type": "code",
   "execution_count": null,
   "id": "469930d7",
   "metadata": {},
   "outputs": [],
   "source": [
    "slice_gap = 20\n",
    "num_print = 0\n",
    "for s in range(0,max_travel,slice_gap):\n",
    "    \n",
    "    # Calculate the center point for the current slice\n",
    "    pt = array_center + normal * (s - max_travel / 2)\n",
    "    #pt = array_center + normal * (s - max_travel / 2)\n",
    "    # Check if the plane is reasonably within the volume bounds\n",
    "    '''\n",
    "    if not (0 <= pt[0] < original_shape[0] and \n",
    "            0 <= pt[1] < original_shape[1] and \n",
    "            0 <= pt[2] < original_shape[2]):\n",
    "        if len(sliced_matrix_list) > 0 : # Stop if we have collected slices and moved out\n",
    "            print('*'*10)\n",
    "            print(pt,original_shape)\n",
    "            break\n",
    "        else: # continue until we are in the volume\n",
    "            print('@@'*10)\n",
    "            print(pt,original_shape)\n",
    "            continue\n",
    "    '''\n",
    "    num_print += 1\n",
    "\n",
    "    # Convert 2D slice grid points to 3D coordinates in the original volume\n",
    "    points_3d = pt[:, np.newaxis, np.newaxis] + \\\n",
    "                u[:, np.newaxis, np.newaxis] * x_slice + \\\n",
    "                v[:, np.newaxis, np.newaxis] * y_slice\n",
    "    # Sample the volume at these 3D coordinates\n",
    "    # Note: map_coordinates expects coordinates in (z, y, x) order for a (depth, height, width) array\n",
    "    coords_for_map = [points_3d[2], points_3d[1], points_3d[0]]\n",
    "    oblique_slice = map_coordinates(V, coords_for_map, order=0, mode='constant', cval=0.0)\n",
    "    \n",
    "\n",
    "    # If the slice is not empty, add it to our list\n",
    "    if np.any(oblique_slice):\n",
    "        sliced_matrix_list.append(oblique_slice)\n",
    "\n",
    "if not sliced_matrix_list:\n",
    "    print(\"Warning: No data was captured in the slices. The volume might be empty or the normal is pointing away.\")\n",
    "    return np.zeros((10, 10, 10)) # Return a small empty matrix\n",
    "\n",
    "# Stack the collected slices into a new 3D matrix\n",
    "sliced_matrix = np.stack(sliced_matrix_list, axis=-1)\n",
    "print('sliced_matrix',sliced_matrix.shape)"
   ]
  }
 ],
 "metadata": {
  "kernelspec": {
   "display_name": "slice_env",
   "language": "python",
   "name": "python3"
  },
  "language_info": {
   "codemirror_mode": {
    "name": "ipython",
    "version": 3
   },
   "file_extension": ".py",
   "mimetype": "text/x-python",
   "name": "python",
   "nbconvert_exporter": "python",
   "pygments_lexer": "ipython3",
   "version": "3.10.12"
  }
 },
 "nbformat": 4,
 "nbformat_minor": 5
}
