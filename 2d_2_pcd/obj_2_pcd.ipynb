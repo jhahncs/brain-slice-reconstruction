{
 "cells": [
  {
   "cell_type": "code",
   "execution_count": 21,
   "metadata": {},
   "outputs": [],
   "source": [
    "import cv2\n",
    "import matplotlib.pyplot as plt\n",
    "import numpy as np\n",
    "import os\n",
    "import random\n",
    "import multiprocessing\n",
    "from vedo import dataurl, printc, Plotter, Points, Mesh, Text2D\n",
    "import pytorch3d\n",
    "import importlib\n",
    "import obj_2_pcd\n",
    "import render_inference_result\n",
    "importlib.reload(obj_2_pcd)\n",
    "importlib.reload(render_inference_result)\n",
    "\n",
    "import torch\n",
    "if torch.cuda.is_available():\n",
    "    device = torch.device(\"cuda:0\")\n",
    "    torch.cuda.set_device(device)\n",
    "else:\n",
    "    device = torch.device(\"cpu\")\n",
    "\n",
    "import torchvision.transforms as transforms\n",
    "\n",
    "\n",
    "\n"
   ]
  },
  {
   "cell_type": "code",
   "execution_count": 20,
   "metadata": {},
   "outputs": [],
   "source": [
    "index = 0\n",
    "img_dir = '/data/jhahn/data/brain_lightsheet/0408'\n",
    "\n",
    "output_dir = 'output'\n",
    "tickness = 0.02"
   ]
  },
  {
   "cell_type": "code",
   "execution_count": null,
   "metadata": {},
   "outputs": [
    {
     "data": {
      "text/plain": [
       "['0089.obj',\n",
       " '0096.obj',\n",
       " '0103.obj',\n",
       " '0110.obj',\n",
       " '0117.obj',\n",
       " '0124.obj',\n",
       " '0131.obj',\n",
       " '0138.obj',\n",
       " '0145.obj',\n",
       " '0152.obj',\n",
       " '0159.obj',\n",
       " '0166.obj',\n",
       " '0173.obj',\n",
       " '0180.obj',\n",
       " '0187.obj',\n",
       " '0194.obj',\n",
       " '0201.obj',\n",
       " '0208.obj']"
      ]
     },
     "execution_count": 23,
     "metadata": {},
     "output_type": "execute_result"
    }
   ],
   "source": []
  },
  {
   "cell_type": "code",
   "execution_count": null,
   "metadata": {},
   "outputs": [],
   "source": [
    "\n",
    "\n",
    "\n",
    "data_id = '0168'\n",
    "tiff_filename_full = f'{img_dir}/{data_id}.tif'\n",
    "pcd_filename_1 = obj_2_pcd.tiff_2_pcd(0.0,tiff_filename_full, output_dir, tickness)\n",
    "vertices_1 = pytorch3d.io.load_obj(pcd_filename_1, device=device)[0]\n",
    "render_inference_result.pcd_2_img(device, f'{output_dir}/{data_id}.obj',f'{output_dir}/{data_id}.png', xlim=(-9000, 0), ylim=(-9000, 0), zlim=(-9000, 0))\n",
    "\n",
    "\n",
    "data_id = '0180'\n",
    "tiff_filename_full = f'{img_dir}/{data_id}.tif'\n",
    "pcd_filename_2 = obj_2_pcd.tiff_2_pcd(tickness*4,tiff_filename_full, output_dir, tickness)\n",
    "vertices_2 = pytorch3d.io.load_obj(pcd_filename_2, device=device)[0]\n",
    "render_inference_result.pcd_2_img(device, f'{output_dir}/{data_id}.obj',f'{output_dir}/{data_id}.png', xlim=(-9000, 0), ylim=(-9000, 0), zlim=(-9000, 0))\n",
    "\n",
    "\n",
    "print(torch.max(vertices_1, axis=0)[0])\n",
    "print(torch.min(vertices_1, axis=0)[0])\n",
    "print(torch.max(vertices_2, axis=0)[0])\n",
    "print(torch.min(vertices_2, axis=0)[0])\n"
   ]
  },
  {
   "cell_type": "code",
   "execution_count": 18,
   "metadata": {},
   "outputs": [],
   "source": [
    "data_id = '0091'\n",
    "img_dir = '/data/jhahn/data/shape_dataset/data/brain_lightsheet/0408_0091_215_random_rotation/fractured_7'\n",
    "tiff_filename_full = f'{img_dir}/{data_id}.tif'\n",
    "#pcd_filename_1 = obj_2_pcd.tiff_2_pcd(0.0,tiff_filename_full, output_dir, tickness)\n",
    "#vertices_1 = pytorch3d.io.load_obj(f'{img_dir}/{data_id}.obj', device=device)[0]\n",
    "render_inference_result.pcd_2_img(device, f'{img_dir}/{data_id}.obj',f'{output_dir}/{data_id}.png', xlim=(-9000, 0), ylim=(-9000, 0), zlim=(-9000, 0))\n"
   ]
  },
  {
   "cell_type": "code",
   "execution_count": 12,
   "metadata": {},
   "outputs": [
    {
     "name": "stdout",
     "output_type": "stream",
     "text": [
      "tensor([0.7056, 0.0010, 0.5138], device='cuda:0')\n",
      "tensor([0.2886, 0.0000, 0.1135], device='cuda:0')\n",
      "tensor([0.5799, 1.1350, 0.4638], device='cuda:0')\n",
      "tensor([0.2707, 1.1340, 0.1764], device='cuda:0')\n"
     ]
    }
   ],
   "source": [
    "vertices_0 = pytorch3d.io.load_obj('/data/jhahn/data/shape_dataset/data/brain_lightsheet/0408/fractured_0/0000.obj', device=device)[0]\n",
    "vertices_1 = pytorch3d.io.load_obj('/data/jhahn/data/shape_dataset/data/brain_lightsheet/0408/fractured_0/0378.obj', device=device)[0]\n",
    "\n",
    "\n",
    "print(torch.max(vertices_0, axis=0)[0])\n",
    "print(torch.min(vertices_0, axis=0)[0])\n",
    "print(torch.max(vertices_1, axis=0)[0])\n",
    "print(torch.min(vertices_1, axis=0)[0])\n",
    "\n"
   ]
  },
  {
   "cell_type": "code",
   "execution_count": null,
   "metadata": {},
   "outputs": [
    {
     "name": "stdout",
     "output_type": "stream",
     "text": [
      "['magma', 'inferno', 'plasma', 'viridis', 'cividis', 'twilight', 'twilight_shifted', 'turbo', 'berlin', 'managua', 'vanimo', 'Blues', 'BrBG', 'BuGn', 'BuPu', 'CMRmap', 'GnBu', 'Greens', 'Greys', 'OrRd', 'Oranges', 'PRGn', 'PiYG', 'PuBu', 'PuBuGn', 'PuOr', 'PuRd', 'Purples', 'RdBu', 'RdGy', 'RdPu', 'RdYlBu', 'RdYlGn', 'Reds', 'Spectral', 'Wistia', 'YlGn', 'YlGnBu', 'YlOrBr', 'YlOrRd', 'afmhot', 'autumn', 'binary', 'bone', 'brg', 'bwr', 'cool', 'coolwarm', 'copper', 'cubehelix', 'flag', 'gist_earth', 'gist_gray', 'gist_heat', 'gist_ncar', 'gist_rainbow', 'gist_stern', 'gist_yarg', 'gnuplot', 'gnuplot2', 'gray', 'hot', 'hsv', 'jet', 'nipy_spectral', 'ocean', 'pink', 'prism', 'rainbow', 'seismic', 'spring', 'summer', 'terrain', 'winter', 'Accent', 'Dark2', 'Paired', 'Pastel1', 'Pastel2', 'Set1', 'Set2', 'Set3', 'tab10', 'tab20', 'tab20b', 'tab20c', 'grey', 'gist_grey', 'gist_yerg', 'Grays', 'magma_r', 'inferno_r', 'plasma_r', 'viridis_r', 'cividis_r', 'twilight_r', 'twilight_shifted_r', 'turbo_r', 'berlin_r', 'managua_r', 'vanimo_r', 'Blues_r', 'BrBG_r', 'BuGn_r', 'BuPu_r', 'CMRmap_r', 'GnBu_r', 'Greens_r', 'Greys_r', 'OrRd_r', 'Oranges_r', 'PRGn_r', 'PiYG_r', 'PuBu_r', 'PuBuGn_r', 'PuOr_r', 'PuRd_r', 'Purples_r', 'RdBu_r', 'RdGy_r', 'RdPu_r', 'RdYlBu_r', 'RdYlGn_r', 'Reds_r', 'Spectral_r', 'Wistia_r', 'YlGn_r', 'YlGnBu_r', 'YlOrBr_r', 'YlOrRd_r', 'afmhot_r', 'autumn_r', 'binary_r', 'bone_r', 'brg_r', 'bwr_r', 'cool_r', 'coolwarm_r', 'copper_r', 'cubehelix_r', 'flag_r', 'gist_earth_r', 'gist_gray_r', 'gist_heat_r', 'gist_ncar_r', 'gist_rainbow_r', 'gist_stern_r', 'gist_yarg_r', 'gnuplot_r', 'gnuplot2_r', 'gray_r', 'hot_r', 'hsv_r', 'jet_r', 'nipy_spectral_r', 'ocean_r', 'pink_r', 'prism_r', 'rainbow_r', 'seismic_r', 'spring_r', 'summer_r', 'terrain_r', 'winter_r', 'Accent_r', 'Dark2_r', 'Paired_r', 'Pastel1_r', 'Pastel2_r', 'Set1_r', 'Set2_r', 'Set3_r', 'tab10_r', 'tab20_r', 'tab20b_r', 'tab20c_r', 'grey_r', 'gist_grey_r', 'gist_yerg_r', 'Grays_r']\n",
      "torch.Size([14152, 3])\n",
      "tensor([[0.2899, 0.0000, 0.0674],\n",
      "        [0.2899, 0.0200, 0.0674],\n",
      "        [0.2906, 0.0000, 0.0674],\n",
      "        ...,\n",
      "        [0.3380, 0.0061, 0.0680],\n",
      "        [0.3380, 0.0041, 0.0680],\n",
      "        [0.3380, 0.0092, 0.0680]], device='cuda:0')\n",
      "tensor([[0.2457, 0.0000, 0.0571],\n",
      "        [0.2457, 0.0169, 0.0571],\n",
      "        [0.2462, 0.0000, 0.0571],\n",
      "        ...,\n",
      "        [0.2865, 0.0052, 0.0576],\n",
      "        [0.2865, 0.0035, 0.0576],\n",
      "        [0.2865, 0.0078, 0.0576]])\n",
      "tensor([0.7648, 0.0169, 0.5474], device='cuda:0')\n",
      "tensor([0.1044, 0.0000, 0.0571], device='cuda:0')\n",
      "(512, 512, 3)\n"
     ]
    }
   ],
   "source": [
    "import obj_2_pcd\n",
    "import render_inference_result\n",
    "importlib.reload(obj_2_pcd)\n",
    "importlib.reload(render_inference_result)\n",
    "\n",
    "\n",
    "\n",
    "vertices = pytorch3d.io.load_obj(pcd_filename, device=device)[0]\n",
    "\n",
    "\n",
    "print(vertices.shape)\n",
    "print(vertices)\n",
    "augmentation_transform = transforms.Compose([\n",
    "    #transforms.RandomResizedCrop(224),  # Resize and crop\n",
    "    transforms.RandomHorizontalFlip(),  # Flip horizontally\n",
    "    transforms.RandomRotation(degrees=(0, 180)),  # Flip horizontally\n",
    "    #transforms.ColorJitter(brightness=0.2, contrast=0.2, saturation=0.2, hue=0.1), # Color adjustments\n",
    "    #transforms.ToTensor(), # Convert to tensor\n",
    "    #transforms.Normalize((0.485, 0.456, 0.406), (0.229, 0.224, 0.225)) # Normalize\n",
    "])\n",
    "\n",
    "#vertices\n",
    "augmented_image = random_scale(vertices.cpu())\n",
    "augemented_pcd_filename = f'{output_dir}/{\"a\"}.obj'\n",
    "with open(augemented_pcd_filename,'w') as f:\n",
    "    for xyz in augmented_image:\n",
    "        f.write(f'v {xyz[0]} {xyz[1]} {xyz[2]}\\n')\n",
    "\n",
    "#mesh_filename = f'{slice_filename_itself}.ply'\n",
    "#print(f'{output_dir}/{mesh_filename}')\n",
    "#pcd_2_mesh(f'{output_dir}/{obj_filename}',f'{output_dir}/{mesh_filename}')\n",
    "\n",
    "augmented_image\n",
    "print(augmented_image)\n",
    "render_inference_result.pcd_2_img(device, augemented_pcd_filename,f'{output_dir}/{data_id}_aug.png', xlim=(-9000, 0), ylim=(-9000, 0), zlim=(-9000, 0))\n"
   ]
  },
  {
   "cell_type": "code",
   "execution_count": null,
   "metadata": {},
   "outputs": [
    {
     "name": "stderr",
     "output_type": "stream",
     "text": [
      "/data/jhahn/slice_env/lib/python3.10/site-packages/pytorch3d/io/obj_io.py:546: UserWarning: No mtl file provided\n",
      "  warnings.warn(\"No mtl file provided\")\n"
     ]
    },
    {
     "ename": "AttributeError",
     "evalue": "'tuple' object has no attribute 'cpu'",
     "output_type": "error",
     "traceback": [
      "\u001b[0;31m---------------------------------------------------------------------------\u001b[0m",
      "\u001b[0;31mAttributeError\u001b[0m                            Traceback (most recent call last)",
      "Cell \u001b[0;32mIn[13], line 1\u001b[0m\n\u001b[0;32m----> 1\u001b[0m \u001b[43mrender_inference_result\u001b[49m\u001b[38;5;241;43m.\u001b[39;49m\u001b[43mpcd_2_img\u001b[49m\u001b[43m(\u001b[49m\u001b[43mdevice\u001b[49m\u001b[43m,\u001b[49m\u001b[43m \u001b[49m\u001b[38;5;124;43mf\u001b[39;49m\u001b[38;5;124;43m'\u001b[39;49m\u001b[38;5;132;43;01m{\u001b[39;49;00m\u001b[43moutput_dir\u001b[49m\u001b[38;5;132;43;01m}\u001b[39;49;00m\u001b[38;5;124;43m/\u001b[39;49m\u001b[38;5;132;43;01m{\u001b[39;49;00m\u001b[38;5;124;43m\"\u001b[39;49m\u001b[38;5;124;43m0000.obj\u001b[39;49m\u001b[38;5;124;43m\"\u001b[39;49m\u001b[38;5;132;43;01m}\u001b[39;49;00m\u001b[38;5;124;43m'\u001b[39;49m\u001b[43m,\u001b[49m\u001b[38;5;124;43mf\u001b[39;49m\u001b[38;5;124;43m'\u001b[39;49m\u001b[38;5;132;43;01m{\u001b[39;49;00m\u001b[43moutput_dir\u001b[49m\u001b[38;5;132;43;01m}\u001b[39;49;00m\u001b[38;5;124;43m/\u001b[39;49m\u001b[38;5;132;43;01m{\u001b[39;49;00m\u001b[38;5;124;43m\"\u001b[39;49m\u001b[38;5;124;43m0000.png\u001b[39;49m\u001b[38;5;124;43m\"\u001b[39;49m\u001b[38;5;132;43;01m}\u001b[39;49;00m\u001b[38;5;124;43m'\u001b[39;49m\u001b[43m,\u001b[49m\u001b[43m \u001b[49m\u001b[43mxlim\u001b[49m\u001b[38;5;241;43m=\u001b[39;49m\u001b[43m(\u001b[49m\u001b[38;5;241;43m-\u001b[39;49m\u001b[38;5;241;43m9000\u001b[39;49m\u001b[43m,\u001b[49m\u001b[43m \u001b[49m\u001b[38;5;241;43m0\u001b[39;49m\u001b[43m)\u001b[49m\u001b[43m,\u001b[49m\u001b[43m \u001b[49m\u001b[43mylim\u001b[49m\u001b[38;5;241;43m=\u001b[39;49m\u001b[43m(\u001b[49m\u001b[38;5;241;43m-\u001b[39;49m\u001b[38;5;241;43m9000\u001b[39;49m\u001b[43m,\u001b[49m\u001b[43m \u001b[49m\u001b[38;5;241;43m0\u001b[39;49m\u001b[43m)\u001b[49m\u001b[43m,\u001b[49m\u001b[43m \u001b[49m\u001b[43mzlim\u001b[49m\u001b[38;5;241;43m=\u001b[39;49m\u001b[43m(\u001b[49m\u001b[38;5;241;43m-\u001b[39;49m\u001b[38;5;241;43m9000\u001b[39;49m\u001b[43m,\u001b[49m\u001b[43m \u001b[49m\u001b[38;5;241;43m0\u001b[39;49m\u001b[43m)\u001b[49m\u001b[43m)\u001b[49m\n",
      "File \u001b[0;32m~/puzzlefusion-plusplus/2d_2_pcd/render_inference_result.py:148\u001b[0m, in \u001b[0;36mpcd_2_img\u001b[0;34m(device, pcd_file_name, output_img_file_name, alpha, max_points, xlim, ylim, zlim)\u001b[0m\n\u001b[1;32m    141\u001b[0m renderer \u001b[38;5;241m=\u001b[39m pytorch3d\u001b[38;5;241m.\u001b[39mrenderer\u001b[38;5;241m.\u001b[39mPointsRenderer(\n\u001b[1;32m    142\u001b[0m     rasterizer\u001b[38;5;241m=\u001b[39mrasterizer,\n\u001b[1;32m    143\u001b[0m     compositor\u001b[38;5;241m=\u001b[39mpytorch3d\u001b[38;5;241m.\u001b[39mrenderer\u001b[38;5;241m.\u001b[39mAlphaCompositor(background_color\u001b[38;5;241m=\u001b[39m(\u001b[38;5;241m1\u001b[39m, \u001b[38;5;241m1\u001b[39m, \u001b[38;5;241m1\u001b[39m))\n\u001b[1;32m    144\u001b[0m     \u001b[38;5;66;03m#compositor=NormWeightedCompositor()\u001b[39;00m\n\u001b[1;32m    145\u001b[0m )\n\u001b[1;32m    147\u001b[0m vertices \u001b[38;5;241m=\u001b[39m pytorch3d\u001b[38;5;241m.\u001b[39mio\u001b[38;5;241m.\u001b[39mload_obj(pcd_file_name, device\u001b[38;5;241m=\u001b[39mdevice)\n\u001b[0;32m--> 148\u001b[0m vertices \u001b[38;5;241m=\u001b[39m \u001b[43mvertices\u001b[49m\u001b[38;5;241;43m.\u001b[39;49m\u001b[43mcpu\u001b[49m()\n\u001b[1;32m    150\u001b[0m N, dim \u001b[38;5;241m=\u001b[39m vertices\u001b[38;5;241m.\u001b[39mshape\n\u001b[1;32m    153\u001b[0m \u001b[38;5;66;03m#tr = Translate(torch.FloatTensor([-gt[_i,:3]]))\u001b[39;00m\n\u001b[1;32m    154\u001b[0m \u001b[38;5;66;03m#rr = Rotate(quaternion_to_matrix(torch.FloatTensor([-gt[_i,3:]])))\u001b[39;00m\n",
      "\u001b[0;31mAttributeError\u001b[0m: 'tuple' object has no attribute 'cpu'"
     ]
    }
   ],
   "source": []
  },
  {
   "cell_type": "code",
   "execution_count": 73,
   "metadata": {},
   "outputs": [
    {
     "name": "stderr",
     "output_type": "stream",
     "text": [
      "libpng warning: iCCP: known incorrect sRGB profile\n"
     ]
    },
    {
     "name": "stdout",
     "output_type": "stream",
     "text": [
      "[0 0 0]\n",
      "(1909, 3583, 3)\n",
      "(2109, 3783, 3)\n",
      "[0 0 0]\n",
      "(2109, 3783, 3)\n"
     ]
    },
    {
     "data": {
      "image/png": "[encoded data removed]",
      "text/plain": [
       "<Figure size 640x480 with 1 Axes>"
      ]
     },
     "metadata": {},
     "output_type": "display_data"
    }
   ],
   "source": [
    "slice_filename = '/data/jhahn/data/tg/A0242_manual/A0242_sag_ssttd_pv488_cfosb_s001.png'\n",
    "image = cv2.imread(slice_filename, cv2.IMREAD_COLOR)\n",
    "print(image[0,0,:])\n",
    "print(image.shape)\n",
    "image = cv2.copyMakeBorder(image, 100, 100, 100, 100,cv2.BORDER_CONSTANT,value=[0,0,0])\n",
    "\n",
    "#image = padding_to_image(image)\n",
    "print(image.shape)\n",
    "print(image[0,0,:])\n",
    "gray_image = cv2.cvtColor(image, cv2.COLOR_BGR2GRAY)\n",
    "print(image.shape)\n",
    "\n",
    "canny_image = cv2.Canny(gray_image,100,200)\n",
    "\n",
    "plt.imshow(gray_image)\n",
    "plt.title('my picture')\n",
    "plt.show()\n",
    "\n"
   ]
  },
  {
   "cell_type": "code",
   "execution_count": null,
   "metadata": {},
   "outputs": [],
   "source": [
    "\n",
    "h, w, c = image.shape\n",
    "gray_image = cv2.cvtColor(image, cv2.COLOR_BGR2GRAY)\n",
    "canny_image = cv2.Canny(gray_image,100,200)\n",
    "canny_image\n",
    "\n",
    "plt.imshow(canny_image)\n",
    "plt.title('my picture')\n",
    "plt.show()"
   ]
  },
  {
   "cell_type": "code",
   "execution_count": 301,
   "metadata": {},
   "outputs": [
    {
     "data": {
      "text/plain": [
       "True"
      ]
     },
     "execution_count": 301,
     "metadata": {},
     "output_type": "execute_result"
    }
   ],
   "source": [
    "isinstance(meshes[0] , trimesh.points.PointCloud)"
   ]
  },
  {
   "cell_type": "code",
   "execution_count": 292,
   "metadata": {},
   "outputs": [],
   "source": [
    "def _check_connectivity( meshes):\n",
    "        \"\"\"\n",
    "        Generate a connectivity matrix for the input meshes.\n",
    "        args:\n",
    "            meshes: list of trimesh objects\n",
    "        returns:\n",
    "            A numpy array where element (i, j) is True if meshes[i] and meshes[j] are connected.\n",
    "        \"\"\"\n",
    "        num_meshes = len(meshes)\n",
    "        connectivity_matrix = np.zeros((20, 20), dtype=bool)\n",
    "\n",
    "        for i in range(num_meshes):\n",
    "            for j in range(i + 1, num_meshes):  # Check each pair once\n",
    "                if _are_meshes_connected(meshes[i], meshes[j]):\n",
    "                    connectivity_matrix[i, j] = True\n",
    "                    connectivity_matrix[j, i] = True  # Ensure symmetry for undirected graph\n",
    "\n",
    "        return connectivity_matrix.astype(bool)\n",
    "def _are_meshes_connected( mesh_a, mesh_b):\n",
    "        \"\"\"\n",
    "        Check if two meshes share any vertices.\n",
    "        \n",
    "        Args:\n",
    "            mesh_a, mesh_b (trimesh.Trimesh): The two mesh objects to compare.\n",
    "            \n",
    "        Returns:\n",
    "            bool: True if the meshes share at least one vertex, False otherwise.\n",
    "        \"\"\"\n",
    "        # Round vertices to a precision to mitigate floating-point issues\n",
    "        precision = 5\n",
    "        vertices_a = np.round(mesh_a.vertices, decimals=precision)\n",
    "        vertices_b = np.round(mesh_b.vertices, decimals=precision)\n",
    "\n",
    "        # Create a set of unique vertices for each mesh\n",
    "        unique_vertices_a = set(map(tuple, vertices_a))\n",
    "        unique_vertices_b = set(map(tuple, vertices_b))\n",
    "\n",
    "        # Check if there is any intersection between the sets of unique vertices\n",
    "        shared_vertices = unique_vertices_a.intersection(unique_vertices_b)\n",
    "\n",
    "        return len(shared_vertices) > 0"
   ]
  },
  {
   "cell_type": "code",
   "execution_count": null,
   "metadata": {},
   "outputs": [
    {
     "data": {
      "text/plain": [
       "TrackedArray([[-0.57922078,  0.03      ,  0.53846154],\n",
       "              [ 0.05454545,  0.09      , -0.91497976],\n",
       "              [-0.58961039,  0.04      ,  0.23481781],\n",
       "              [ 0.7974026 ,  0.08      ,  0.46153846],\n",
       "              [ 0.55844156,  0.08      , -0.048583  ],\n",
       "              [ 0.27272727,  0.06      , -0.80161943],\n",
       "              [-0.54285714,  0.03      ,  0.61133603],\n",
       "              [ 0.53766234,  0.        , -0.49392713],\n",
       "              [ 0.14805195,  0.1       , -0.73684211],\n",
       "              [ 0.11688312,  0.08      ,  0.68016194]])"
      ]
     },
     "execution_count": 296,
     "metadata": {},
     "output_type": "execute_result"
    }
   ],
   "source": [
    "\n"
   ]
  },
  {
   "cell_type": "code",
   "execution_count": 297,
   "metadata": {},
   "outputs": [],
   "source": [
    "# Check if the meshes are connected\n",
    "graph = _check_connectivity(meshes)\n",
    "\n",
    "pcs = [\n",
    "        #trimesh.sample.sample_surface(mesh, 1000)[0]\n",
    "        mesh.vertices[np.random.choice(np.arange(len(mesh.vertices)), 1000)]\n",
    "        for mesh in meshes\n",
    "    ]\n",
    "\n",
    "#return np.stack(pcs, axis=0), graph\n"
   ]
  },
  {
   "cell_type": "code",
   "execution_count": 3,
   "metadata": {},
   "outputs": [
    {
     "name": "stderr",
     "output_type": "stream",
     "text": [
      "/data/jhahn/slice_env/lib/python3.10/site-packages/numpy/core/getlimits.py:549: UserWarning: The value of the smallest subnormal for <class 'numpy.float64'> type is zero.\n",
      "  setattr(self, word, getattr(machar, word).flat[0])\n",
      "/data/jhahn/slice_env/lib/python3.10/site-packages/numpy/core/getlimits.py:89: UserWarning: The value of the smallest subnormal for <class 'numpy.float64'> type is zero.\n",
      "  return self._float_to_str(self.smallest_subnormal)\n"
     ]
    },
    {
     "data": {
      "text/plain": [
       "(([], []), ([], []))"
      ]
     },
     "execution_count": 3,
     "metadata": {},
     "output_type": "execute_result"
    },
    {
     "data": {
      "image/png": "[encoded data removed]",
      "text/plain": [
       "<Figure size 800x500 with 1 Axes>"
      ]
     },
     "metadata": {},
     "output_type": "display_data"
    }
   ],
   "source": [
    "\n",
    "\n",
    "plt.figure(figsize=(8, 5))\n",
    "plt.imshow(gray_image)\n",
    "plt.title('hough_image')\n",
    "plt.xticks([]), plt.yticks([])"
   ]
  }
 ],
 "metadata": {
  "kernelspec": {
   "display_name": "slice_env",
   "language": "python",
   "name": "python3"
  },
  "language_info": {
   "codemirror_mode": {
    "name": "ipython",
    "version": 3
   },
   "file_extension": ".py",
   "mimetype": "text/x-python",
   "name": "python",
   "nbconvert_exporter": "python",
   "pygments_lexer": "ipython3",
   "version": "3.10.12"
  }
 },
 "nbformat": 4,
 "nbformat_minor": 2
}
