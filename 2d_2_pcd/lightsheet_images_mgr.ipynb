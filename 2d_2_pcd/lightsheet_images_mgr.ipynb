{
 "cells": [
  {
   "cell_type": "code",
   "execution_count": 7,
   "id": "b8a19c4a",
   "metadata": {},
   "outputs": [
    {
     "ename": "ValueError",
     "evalue": "all input arrays must have the same shape",
     "output_type": "error",
     "traceback": [
      "\u001b[0;31m---------------------------------------------------------------------------\u001b[0m",
      "\u001b[0;31mValueError\u001b[0m                                Traceback (most recent call last)",
      "Cell \u001b[0;32mIn[7], line 62\u001b[0m\n\u001b[1;32m     60\u001b[0m file_pattern \u001b[38;5;241m=\u001b[39m \u001b[38;5;124m'\u001b[39m\u001b[38;5;124m/data/jhahn/data/brain_lightsheet/0408/*.tif\u001b[39m\u001b[38;5;124m'\u001b[39m\n\u001b[1;32m     61\u001b[0m \u001b[38;5;28;01mtry\u001b[39;00m:\n\u001b[0;32m---> 62\u001b[0m     image_stack \u001b[38;5;241m=\u001b[39m \u001b[43mstack_tiffs\u001b[49m\u001b[43m(\u001b[49m\u001b[43mfile_pattern\u001b[49m\u001b[43m)\u001b[49m\n\u001b[1;32m     63\u001b[0m     \u001b[38;5;28mprint\u001b[39m(\u001b[38;5;124mf\u001b[39m\u001b[38;5;124m\"\u001b[39m\u001b[38;5;124mImage stack shape: \u001b[39m\u001b[38;5;132;01m{\u001b[39;00mimage_stack\u001b[38;5;241m.\u001b[39mshape\u001b[38;5;132;01m}\u001b[39;00m\u001b[38;5;124m\"\u001b[39m)\n\u001b[1;32m     64\u001b[0m \u001b[38;5;28;01mexcept\u001b[39;00m \u001b[38;5;167;01mFileNotFoundError\u001b[39;00m \u001b[38;5;28;01mas\u001b[39;00m e:\n",
      "Cell \u001b[0;32mIn[7], line 57\u001b[0m, in \u001b[0;36mstack_tiffs\u001b[0;34m(file_pattern)\u001b[0m\n\u001b[1;32m     54\u001b[0m     \u001b[38;5;28;01mwith\u001b[39;00m tifffile\u001b[38;5;241m.\u001b[39mTiffFile(file_path) \u001b[38;5;28;01mas\u001b[39;00m tif:\n\u001b[1;32m     55\u001b[0m         stack\u001b[38;5;241m.\u001b[39mappend(tif\u001b[38;5;241m.\u001b[39masarray())\n\u001b[0;32m---> 57\u001b[0m \u001b[38;5;28;01mreturn\u001b[39;00m \u001b[43mnp\u001b[49m\u001b[38;5;241;43m.\u001b[39;49m\u001b[43mstack\u001b[49m\u001b[43m(\u001b[49m\u001b[43mstack\u001b[49m\u001b[43m,\u001b[49m\u001b[43m \u001b[49m\u001b[43maxis\u001b[49m\u001b[38;5;241;43m=\u001b[39;49m\u001b[38;5;241;43m0\u001b[39;49m\u001b[43m)\u001b[49m\n",
      "File \u001b[0;32m/data/jhahn/slice_env/lib/python3.10/site-packages/numpy/core/shape_base.py:449\u001b[0m, in \u001b[0;36mstack\u001b[0;34m(arrays, axis, out, dtype, casting)\u001b[0m\n\u001b[1;32m    447\u001b[0m shapes \u001b[38;5;241m=\u001b[39m {arr\u001b[38;5;241m.\u001b[39mshape \u001b[38;5;28;01mfor\u001b[39;00m arr \u001b[38;5;129;01min\u001b[39;00m arrays}\n\u001b[1;32m    448\u001b[0m \u001b[38;5;28;01mif\u001b[39;00m \u001b[38;5;28mlen\u001b[39m(shapes) \u001b[38;5;241m!=\u001b[39m \u001b[38;5;241m1\u001b[39m:\n\u001b[0;32m--> 449\u001b[0m     \u001b[38;5;28;01mraise\u001b[39;00m \u001b[38;5;167;01mValueError\u001b[39;00m(\u001b[38;5;124m'\u001b[39m\u001b[38;5;124mall input arrays must have the same shape\u001b[39m\u001b[38;5;124m'\u001b[39m)\n\u001b[1;32m    451\u001b[0m result_ndim \u001b[38;5;241m=\u001b[39m arrays[\u001b[38;5;241m0\u001b[39m]\u001b[38;5;241m.\u001b[39mndim \u001b[38;5;241m+\u001b[39m \u001b[38;5;241m1\u001b[39m\n\u001b[1;32m    452\u001b[0m axis \u001b[38;5;241m=\u001b[39m normalize_axis_index(axis, result_ndim)\n",
      "\u001b[0;31mValueError\u001b[0m: all input arrays must have the same shape"
     ]
    }
   ],
   "source": [
    "import obj_2_pcd\n",
    "import render_inference_result\n",
    "import importlib\n",
    "#import cv2\n",
    "import matplotlib.pyplot as plt\n",
    "import numpy as np\n",
    "import os\n",
    "import random\n",
    "import multiprocessing\n",
    "#from vedo import dataurl, printc, Plotter, Points, Mesh, Text2D\n",
    "import pytorch3d\n",
    "import importlib\n",
    "import obj_2_pcd\n",
    "import render_inference_result\n",
    "importlib.reload(obj_2_pcd)\n",
    "importlib.reload(render_inference_result)\n",
    "import torch\n",
    "if torch.cuda.is_available():\n",
    "    device = torch.device(\"cuda:0\")\n",
    "    torch.cuda.set_device(device)\n",
    "else:\n",
    "    device = torch.device(\"cpu\")\n",
    "\n",
    "\n",
    "import glob\n",
    "import os\n",
    "import shutil\n",
    "\n",
    "data_ids = ['0408']\n",
    "tiff_dir_root = '/data/jhahn/data/brain_lightsheet'\n",
    "obj_dir_root = '/data/jhahn/data/shape_dataset/data/brain_lightsheet'\n",
    "from_index=88\n",
    "start_index=0\n",
    "to_index=215\n",
    "num_of_slices=20\n",
    "tickness = 0.02\n",
    "\n",
    "\n",
    "from PIL import Image\n",
    "im = Image.open('/data/jhahn/data/brain_lightsheet/0408/0000.tif')\n",
    "from tifffile import imread\n",
    "image = imread('/data/jhahn/data/brain_lightsheet/0408/0001.tif')\n",
    "image.shape\n",
    "import tifffile\n",
    "\n",
    "def stack_tiffs(file_pattern):\n",
    "    \"\"\"Stacks multiple TIFF files into a 3D numpy array.\"\"\"\n",
    "    file_list = sorted(glob.glob(file_pattern)) # Sort files for consistent order\n",
    "    if not file_list:\n",
    "        raise FileNotFoundError(f\"No files found matching pattern: {file_pattern}\")\n",
    "    \n",
    "    stack = []\n",
    "    for file_path in file_list:\n",
    "        with tifffile.TiffFile(file_path) as tif:\n",
    "            stack.append(tif.asarray())\n",
    "    \n",
    "    return np.stack(stack, axis=0)\n",
    "\n",
    "# Example usage\n",
    "file_pattern = '/data/jhahn/data/brain_lightsheet/0408/*.tif'\n",
    "try:\n",
    "    image_stack = stack_tiffs(file_pattern)\n",
    "    print(f\"Image stack shape: {image_stack.shape}\")\n",
    "except FileNotFoundError as e:\n",
    "    print(e)\n",
    "\n"
   ]
  },
  {
   "cell_type": "code",
   "execution_count": null,
   "id": "dba9a43f",
   "metadata": {},
   "outputs": [],
   "source": [
    "from tifffile import imread\n",
    "image = imread('/data/jhahn/data/brain_lightsheet/mask_stack.tif')\n",
    "image.shape\n"
   ]
  },
  {
   "cell_type": "code",
   "execution_count": 15,
   "id": "5a83668c",
   "metadata": {},
   "outputs": [
    {
     "name": "stdout",
     "output_type": "stream",
     "text": [
      "brain_lightsheet/0408_0.001_0088_215_rotate_train\n",
      "brain_lightsheet/0408_0.001_0089_215_rotate_train\n",
      "brain_lightsheet/0408_0.001_0090_215_rotate_train\n",
      "brain_lightsheet/0408_0.001_0091_215_rotate_train\n",
      "brain_lightsheet/0408_0.001_0092_215_rotate_train\n",
      "brain_lightsheet/0408_0.001_0093_215_rotate_train\n",
      "brain_lightsheet/0408_0.003_0088_215_rotate_train\n",
      "brain_lightsheet/0408_0.003_0089_215_rotate_train\n",
      "brain_lightsheet/0408_0.003_0090_215_rotate_train\n",
      "brain_lightsheet/0408_0.003_0091_215_rotate_train\n",
      "brain_lightsheet/0408_0.003_0092_215_rotate_train\n",
      "brain_lightsheet/0408_0.003_0093_215_rotate_train\n",
      "brain_lightsheet/0408_0.005_0088_215_rotate_train\n",
      "brain_lightsheet/0408_0.005_0089_215_rotate_train\n",
      "brain_lightsheet/0408_0.005_0090_215_rotate_train\n",
      "brain_lightsheet/0408_0.005_0091_215_rotate_train\n",
      "brain_lightsheet/0408_0.005_0092_215_rotate_train\n",
      "brain_lightsheet/0408_0.005_0093_215_rotate_train\n"
     ]
    }
   ],
   "source": [
    "dir = '/data/jhahn/data/shape_dataset/data/brain_lightsheet'\n",
    "import os\n",
    "import shutil\n",
    "for f in sorted(os.listdir(dir)):\n",
    "    if len(f.split(\"_\")) ==2:\n",
    "        continue\n",
    "    if f.endswith(\"train\"):\n",
    "        print(f'brain_lightsheet/{f}')\n",
    "    '''\n",
    "    for qq in range(5,100):\n",
    "        if f.endswith(\"val\") and qq >= 5:\n",
    "            \n",
    "            if os.path.exists(f'{dir}/{f}/fractured_{qq}'):\n",
    "                shutil.rmtree(f'{dir}/{f}/fractured_{qq}')\n",
    "        elif f.endswith(\"train\") and qq >= 50:\n",
    "            if os.path.exists(f'{dir}/{f}/fractured_{qq}'):\n",
    "                shutil.rmtree(f'{dir}/{f}/fractured_{qq}')\n",
    "    '''\n",
    "#\n",
    "#shutil.rmtree(\"my_non_empty_directory\")"
   ]
  },
  {
   "cell_type": "code",
   "execution_count": null,
   "id": "41ad5c03",
   "metadata": {},
   "outputs": [],
   "source": []
  },
  {
   "cell_type": "code",
   "execution_count": null,
   "id": "1ac2c2c6",
   "metadata": {},
   "outputs": [
    {
     "name": "stdout",
     "output_type": "stream",
     "text": [
      "the number of jobs:1\n",
      "/data/jhahn/data/shape_dataset/data/brain_lightsheet/0408_0088_215_random_rotation/fractured_0\n"
     ]
    }
   ],
   "source": []
  },
  {
   "cell_type": "code",
   "execution_count": null,
   "id": "c5c0eeb4",
   "metadata": {},
   "outputs": [],
   "source": []
  }
 ],
 "metadata": {
  "kernelspec": {
   "display_name": "slice_env",
   "language": "python",
   "name": "python3"
  },
  "language_info": {
   "codemirror_mode": {
    "name": "ipython",
    "version": 3
   },
   "file_extension": ".py",
   "mimetype": "text/x-python",
   "name": "python",
   "nbconvert_exporter": "python",
   "pygments_lexer": "ipython3",
   "version": "3.10.12"
  }
 },
 "nbformat": 4,
 "nbformat_minor": 5
}
