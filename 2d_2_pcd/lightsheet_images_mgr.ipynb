{
 "cells": [
  {
   "cell_type": "code",
   "execution_count": 7,
   "id": "b8a19c4a",
   "metadata": {},
   "outputs": [
    {
     "name": "stdout",
     "output_type": "stream",
     "text": [
      "['magma', 'inferno', 'plasma', 'viridis', 'cividis', 'twilight', 'twilight_shifted', 'turbo', 'berlin', 'managua', 'vanimo', 'Blues', 'BrBG', 'BuGn', 'BuPu', 'CMRmap', 'GnBu', 'Greens', 'Greys', 'OrRd', 'Oranges', 'PRGn', 'PiYG', 'PuBu', 'PuBuGn', 'PuOr', 'PuRd', 'Purples', 'RdBu', 'RdGy', 'RdPu', 'RdYlBu', 'RdYlGn', 'Reds', 'Spectral', 'Wistia', 'YlGn', 'YlGnBu', 'YlOrBr', 'YlOrRd', 'afmhot', 'autumn', 'binary', 'bone', 'brg', 'bwr', 'cool', 'coolwarm', 'copper', 'cubehelix', 'flag', 'gist_earth', 'gist_gray', 'gist_heat', 'gist_ncar', 'gist_rainbow', 'gist_stern', 'gist_yarg', 'gnuplot', 'gnuplot2', 'gray', 'hot', 'hsv', 'jet', 'nipy_spectral', 'ocean', 'pink', 'prism', 'rainbow', 'seismic', 'spring', 'summer', 'terrain', 'winter', 'Accent', 'Dark2', 'Paired', 'Pastel1', 'Pastel2', 'Set1', 'Set2', 'Set3', 'tab10', 'tab20', 'tab20b', 'tab20c', 'grey', 'gist_grey', 'gist_yerg', 'Grays', 'magma_r', 'inferno_r', 'plasma_r', 'viridis_r', 'cividis_r', 'twilight_r', 'twilight_shifted_r', 'turbo_r', 'berlin_r', 'managua_r', 'vanimo_r', 'Blues_r', 'BrBG_r', 'BuGn_r', 'BuPu_r', 'CMRmap_r', 'GnBu_r', 'Greens_r', 'Greys_r', 'OrRd_r', 'Oranges_r', 'PRGn_r', 'PiYG_r', 'PuBu_r', 'PuBuGn_r', 'PuOr_r', 'PuRd_r', 'Purples_r', 'RdBu_r', 'RdGy_r', 'RdPu_r', 'RdYlBu_r', 'RdYlGn_r', 'Reds_r', 'Spectral_r', 'Wistia_r', 'YlGn_r', 'YlGnBu_r', 'YlOrBr_r', 'YlOrRd_r', 'afmhot_r', 'autumn_r', 'binary_r', 'bone_r', 'brg_r', 'bwr_r', 'cool_r', 'coolwarm_r', 'copper_r', 'cubehelix_r', 'flag_r', 'gist_earth_r', 'gist_gray_r', 'gist_heat_r', 'gist_ncar_r', 'gist_rainbow_r', 'gist_stern_r', 'gist_yarg_r', 'gnuplot_r', 'gnuplot2_r', 'gray_r', 'hot_r', 'hsv_r', 'jet_r', 'nipy_spectral_r', 'ocean_r', 'pink_r', 'prism_r', 'rainbow_r', 'seismic_r', 'spring_r', 'summer_r', 'terrain_r', 'winter_r', 'Accent_r', 'Dark2_r', 'Paired_r', 'Pastel1_r', 'Pastel2_r', 'Set1_r', 'Set2_r', 'Set3_r', 'tab10_r', 'tab20_r', 'tab20b_r', 'tab20c_r', 'grey_r', 'gist_grey_r', 'gist_yerg_r', 'Grays_r']\n"
     ]
    }
   ],
   "source": [
    "import obj_2_pcd\n",
    "import render_inference_result\n",
    "import importlib\n",
    "#import cv2\n",
    "import matplotlib.pyplot as plt\n",
    "import numpy as np\n",
    "import os\n",
    "import random\n",
    "import multiprocessing\n",
    "#from vedo import dataurl, printc, Plotter, Points, Mesh, Text2D\n",
    "import pytorch3d\n",
    "import importlib\n",
    "import obj_2_pcd\n",
    "import render_inference_result\n",
    "importlib.reload(obj_2_pcd)\n",
    "importlib.reload(render_inference_result)\n",
    "import torch\n",
    "if torch.cuda.is_available():\n",
    "    device = torch.device(\"cuda:0\")\n",
    "    torch.cuda.set_device(device)\n",
    "else:\n",
    "    device = torch.device(\"cpu\")\n",
    "\n",
    "\n",
    "\n",
    "import os\n",
    "import shutil\n",
    "\n",
    "data_ids = ['0408']\n",
    "tiff_dir_root = '/data/jhahn/data/brain_lightsheet'\n",
    "obj_dir_root = '/data/jhahn/data/shape_dataset/data/brain_lightsheet'\n",
    "from_index=88\n",
    "start_index=0\n",
    "to_index=215\n",
    "num_of_slices=20\n",
    "tickness = 0.02\n",
    "\n"
   ]
  },
  {
   "cell_type": "code",
   "execution_count": 4,
   "id": "5a83668c",
   "metadata": {},
   "outputs": [
    {
     "name": "stdout",
     "output_type": "stream",
     "text": [
      "brain_lightsheet/0408\n",
      "brain_lightsheet/0408_0088_215\n",
      "brain_lightsheet/0408_0088_215_all\n",
      "brain_lightsheet/0408_0088_215_random_rotation\n",
      "brain_lightsheet/0408_0088_215_random_scale\n",
      "brain_lightsheet/0408_0088_215_random_translation\n",
      "brain_lightsheet/0408_0089_215\n",
      "brain_lightsheet/0408_0089_215_all\n",
      "brain_lightsheet/0408_0089_215_random_rotation\n",
      "brain_lightsheet/0408_0089_215_random_scale\n",
      "brain_lightsheet/0408_0089_215_random_translation\n",
      "brain_lightsheet/0408_0090_215\n",
      "brain_lightsheet/0408_0090_215_all\n",
      "brain_lightsheet/0408_0090_215_random_rotation\n",
      "brain_lightsheet/0408_0090_215_random_scale\n",
      "brain_lightsheet/0408_0090_215_random_translation\n",
      "brain_lightsheet/0408_0091_215\n",
      "brain_lightsheet/0408_0091_215_all\n",
      "brain_lightsheet/0408_0091_215_random_rotation\n",
      "brain_lightsheet/0408_0091_215_random_scale\n",
      "brain_lightsheet/0408_0091_215_random_translation\n",
      "brain_lightsheet/0408_0092_215\n",
      "brain_lightsheet/0408_0092_215_all\n",
      "brain_lightsheet/0408_0092_215_random_rotation\n",
      "brain_lightsheet/0408_0092_215_random_scale\n",
      "brain_lightsheet/0408_0092_215_random_translation\n",
      "brain_lightsheet/0408_0093_215\n",
      "brain_lightsheet/0408_0093_215_all\n",
      "brain_lightsheet/0408_0093_215_random_rotation\n",
      "brain_lightsheet/0408_0093_215_random_scale\n",
      "brain_lightsheet/0408_0093_215_random_translation\n"
     ]
    }
   ],
   "source": [
    "dir = '/data/jhahn/data/shape_dataset/data/brain_lightsheet'\n",
    "import os\n",
    "for f in sorted(os.listdir(dir)):\n",
    "    print('brain_lightsheet/'+f)"
   ]
  },
  {
   "cell_type": "code",
   "execution_count": null,
   "id": "41ad5c03",
   "metadata": {},
   "outputs": [],
   "source": []
  },
  {
   "cell_type": "code",
   "execution_count": null,
   "id": "1ac2c2c6",
   "metadata": {},
   "outputs": [
    {
     "name": "stdout",
     "output_type": "stream",
     "text": [
      "the number of jobs:1\n",
      "/data/jhahn/data/shape_dataset/data/brain_lightsheet/0408_0088_215_random_rotation/fractured_0\n"
     ]
    }
   ],
   "source": []
  },
  {
   "cell_type": "code",
   "execution_count": null,
   "id": "c5c0eeb4",
   "metadata": {},
   "outputs": [],
   "source": []
  }
 ],
 "metadata": {
  "kernelspec": {
   "display_name": "slice_env",
   "language": "python",
   "name": "python3"
  },
  "language_info": {
   "codemirror_mode": {
    "name": "ipython",
    "version": 3
   },
   "file_extension": ".py",
   "mimetype": "text/x-python",
   "name": "python",
   "nbconvert_exporter": "python",
   "pygments_lexer": "ipython3",
   "version": "3.10.12"
  }
 },
 "nbformat": 4,
 "nbformat_minor": 5
}
